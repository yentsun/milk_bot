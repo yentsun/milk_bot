{
 "metadata": {
  "name": "",
  "signature": "sha256:79051a0c0886b7cc00f84e7bc56be09364f6e6af804856b2174c01b70454905b"
 },
 "nbformat": 3,
 "nbformat_minor": 0,
 "worksheets": [
  {
   "cells": [
    {
     "cell_type": "code",
     "collapsed": false,
     "input": [
      "%matplotlib inline\n",
      "import matplotlib\n",
      "import numpy as np\n",
      "import matplotlib.pyplot as plt\n",
      "\n",
      "import datetime\n",
      "import transaction\n",
      "from ZODB.FileStorage import FileStorage\n",
      "from milkpricereport.models import StorageManager, ProductCategory\n",
      "\n",
      "storage = StorageManager(FileStorage('storage.fs'))\n",
      "milk = ProductCategory.fetch('milk', storage)"
     ],
     "language": "python",
     "metadata": {},
     "outputs": [],
     "prompt_number": 1
    },
    {
     "cell_type": "code",
     "collapsed": false,
     "input": [
      "from matplotlib import dates\n",
      "normal_dates = [datetime.date.today() + datetime.timedelta(-1*count) for count in range(0, int(7))]\n",
      "date_nums = [dates.date2num(date) for date in normal_dates]\n",
      "list(date_nums)"
     ],
     "language": "python",
     "metadata": {},
     "outputs": [
      {
       "metadata": {},
       "output_type": "pyout",
       "prompt_number": 2,
       "text": [
        "[735507.0, 735506.0, 735505.0, 735504.0, 735503.0, 735502.0, 735501.0]"
       ]
      }
     ],
     "prompt_number": 2
    },
    {
     "cell_type": "code",
     "collapsed": false,
     "input": [
      "median_prices = [milk.get_price(date) for date in normal_dates]\n",
      "list(median_prices)"
     ],
     "language": "python",
     "metadata": {},
     "outputs": [
      {
       "metadata": {},
       "output_type": "pyout",
       "prompt_number": 3,
       "text": [
        "[72.1, 73.05, 72.04, 71.72, 72.04, 73.05, 72.1]"
       ]
      }
     ],
     "prompt_number": 3
    },
    {
     "cell_type": "code",
     "collapsed": false,
     "input": [
      "min_prices = [min(milk.get_prices(date)) for date in normal_dates]\n",
      "list(min_prices)"
     ],
     "language": "python",
     "metadata": {},
     "outputs": [
      {
       "metadata": {},
       "output_type": "pyout",
       "prompt_number": 4,
       "text": [
        "[41.5, 38.9, 38.9, 38.9, 38.9, 38.9, 38.9]"
       ]
      }
     ],
     "prompt_number": 4
    },
    {
     "cell_type": "code",
     "collapsed": false,
     "input": [
      "max_prices = [max(milk.get_prices(date)) for date in normal_dates]\n",
      "list(max_prices)"
     ],
     "language": "python",
     "metadata": {},
     "outputs": [
      {
       "metadata": {},
       "output_type": "pyout",
       "prompt_number": 5,
       "text": [
        "[190.2, 190.2, 222.45, 222.45, 222.45, 222.45, 222.45]"
       ]
      }
     ],
     "prompt_number": 5
    },
    {
     "cell_type": "code",
     "collapsed": false,
     "input": [
      "fig = plt.figure(figsize=(15, 5))\n",
      "plt.plot_date(normal_dates, median_prices, '-', marker='.', label='median')\n",
      "plt.plot_date(normal_dates, min_prices, '-', marker='.', label='min')\n",
      "#plt.plot_date(normal_dates, max_prices,  '-', marker='.', label='max')\n",
      "plt.ylabel('price, RUB')\n",
      "plt.yticks([min_prices[0], median_prices[0]])\n",
      "plt.xticks(normal_dates)\n",
      "fig.autofmt_xdate()\n",
      "ax = fig.add_subplot(111)\n",
      "ax.xaxis.set_major_formatter(dates.DateFormatter('%d.%m'))\n",
      "plt.title('Milk price dynamic')\n",
      "plt.legend(loc='upper right')\n",
      "plt.grid(True)\n",
      "plt.show()"
     ],
     "language": "python",
     "metadata": {},
     "outputs": [
      {
       "metadata": {},
       "output_type": "display_data",
       "png": "[encoded data removed]",
       "text": [
        "<matplotlib.figure.Figure at 0xc0684ac>"
       ]
      }
     ],
     "prompt_number": 10
    },
    {
     "cell_type": "code",
     "collapsed": false,
     "input": [
      "storage.close()"
     ],
     "language": "python",
     "metadata": {},
     "outputs": [],
     "prompt_number": 7
    },
    {
     "cell_type": "code",
     "collapsed": false,
     "input": [],
     "language": "python",
     "metadata": {},
     "outputs": [],
     "prompt_number": 7
    }
   ],
   "metadata": {}
  }
 ]
}