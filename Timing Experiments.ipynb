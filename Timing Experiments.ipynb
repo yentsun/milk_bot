{
 "metadata": {
  "name": "",
  "signature": "sha256:bbcefa9a8718dc0ac51d6b1f63cdec72270c351a06c41dc925a14b9236509878"
 },
 "nbformat": 3,
 "nbformat_minor": 0,
 "worksheets": [
  {
   "cells": [
    {
     "cell_type": "code",
     "collapsed": false,
     "input": [
      "import datetime\n",
      "import transaction\n",
      "from ZODB.FileStorage import FileStorage\n",
      "from milkpricereport.models import StorageManager, ProductCategory\n",
      "\n",
      "storage = StorageManager(FileStorage('storage.fs'))\n",
      "milk = ProductCategory.fetch('milk', storage)"
     ],
     "language": "python",
     "metadata": {},
     "outputs": [],
     "prompt_number": 1
    },
    {
     "cell_type": "heading",
     "level": 3,
     "metadata": {},
     "source": [
      "How `ProductCategory.get_price()` work:"
     ]
    },
    {
     "cell_type": "code",
     "collapsed": false,
     "input": [
      "%time median = milk.get_price()"
     ],
     "language": "python",
     "metadata": {},
     "outputs": [
      {
       "output_type": "stream",
       "stream": "stdout",
       "text": [
        "CPU times: user 8 ms, sys: 0 ns, total: 8 ms\n",
        "Wall time: 9.61 ms\n"
       ]
      }
     ],
     "prompt_number": 15
    },
    {
     "cell_type": "markdown",
     "metadata": {},
     "source": [
      "Inside all products from category return their prices like this:"
     ]
    },
    {
     "cell_type": "code",
     "collapsed": false,
     "input": [
      "product1 = milk.products[u'\u041c\u043e\u043b\u043e\u043a\u043e \u042f\u0441\u043d\u044b\u0439 \u043b\u0443\u0433 \u0443\u043b\u044c\u0442\u0440\u0430\u043f\u0430\u0441\u0442\u0435\u0440\u0438\u0437\u043e\u0432\u0430\u043d\u043d\u043e\u0435 3,2%, 1\u043b']\n",
      "%time product_median = product1.get_price()"
     ],
     "language": "python",
     "metadata": {},
     "outputs": [
      {
       "output_type": "stream",
       "stream": "stdout",
       "text": [
        "CPU times: user 0 ns, sys: 0 ns, total: 0 ns\n",
        "Wall time: 165 \u00b5s\n"
       ]
      }
     ],
     "prompt_number": 3
    },
    {
     "cell_type": "code",
     "collapsed": false,
     "input": [
      "%time product1.get_prices()"
     ],
     "language": "python",
     "metadata": {},
     "outputs": [
      {
       "output_type": "stream",
       "stream": "stdout",
       "text": [
        "CPU times: user 0 ns, sys: 0 ns, total: 0 ns\n",
        "Wall time: 48.9 \u00b5s\n"
       ]
      },
      {
       "metadata": {},
       "output_type": "pyout",
       "prompt_number": 5,
       "text": [
        "[38.9]"
       ]
      }
     ],
     "prompt_number": 5
    },
    {
     "cell_type": "heading",
     "level": 3,
     "metadata": {},
     "source": [
      "`Product.get_prices()` breakdown:"
     ]
    },
    {
     "cell_type": "code",
     "collapsed": false,
     "input": [
      "import datetime\n",
      "today = datetime.date.today()\n",
      "%time reports = product1.get_reports(today)"
     ],
     "language": "python",
     "metadata": {},
     "outputs": [
      {
       "output_type": "stream",
       "stream": "stdout",
       "text": [
        "CPU times: user 0 ns, sys: 0 ns, total: 0 ns\n",
        "Wall time: 31.9 \u00b5s\n"
       ]
      }
     ],
     "prompt_number": 6
    },
    {
     "cell_type": "code",
     "collapsed": false,
     "input": [
      "storage.close()"
     ],
     "language": "python",
     "metadata": {},
     "outputs": [],
     "prompt_number": 16
    },
    {
     "cell_type": "code",
     "collapsed": false,
     "input": [],
     "language": "python",
     "metadata": {},
     "outputs": []
    }
   ],
   "metadata": {}
  }
 ]
}